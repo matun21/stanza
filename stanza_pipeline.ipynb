{
 "cells": [
  {
   "cell_type": "markdown",
   "metadata": {},
   "source": [
    "# Лемматизатор забавных фраз"
   ]
  },
  {
   "cell_type": "code",
   "execution_count": null,
   "metadata": {},
   "outputs": [],
   "source": [
    "# 1. Установка Stanza\n",
    "!pip install stanza\n",
    "!python -m stanza.download ru"
   ]
  },
  {
   "cell_type": "code",
   "execution_count": null,
   "metadata": {},
   "outputs": [],
   "source": [
    "# 2. Загрузка модели\n",
    "import stanza\n",
    "nlp = stanza.Pipeline('ru', processors='tokenize,lemma')"
   ]
  },
  {
   "cell_type": "code",
   "execution_count": null,
   "metadata": {},
   "outputs": [],
   "source": [
    "# 3. Ваши примеры\n",
    "examples = [\n",
    "    \"Кошек мышек ели капибарочки\",\n",
    "    \"Красивых детей воровали бандитики\",\n",
    "    \"Не хотите ли сходить со мной на обедик\"\n",
    "]"
   ]
  },
  {
   "cell_type": "code",
   "execution_count": null,
   "metadata": {},
   "outputs": [],
   "source": [
    "# 4. Функция лемматизации\n",
    "def lemmatize_text(text):\n",
    "    doc = nlp(text)\n",
    "    return ' '.join([word.lemma for sent in doc.sentences for word in sent.words])"
   ]
  },
  {
   "cell_type": "code",
   "execution_count": null,
   "metadata": {},
   "outputs": [],
   "source": [
    "# 5. Обработка примеров\n",
    "for example in examples:\n",
    "    print(f\"\\nФраза: {example}\")\n",
    "    print(f\"Результат: {lemmatize_text(example)}\")"
   ]
  },
  {
   "cell_type": "code",
   "execution_count": null,
   "metadata": {},
   "outputs": [],
   "source": [
    "# 6. Проверьте свой текст\n",
    "user_text = input(\"\\nВведите свою фразу: \")\n",
    "if user_text.strip():\n",
    "    print(f\"Результат: {lemmatize_text(user_text)}\")\n",
    "else:\n",
    "    print(\"Вы ничего не ввели\")"
   ]
  }
 ],
 "metadata": {
  "kernelspec": {
   "display_name": "Python 3",
   "language": "python",
   "name": "python3"
  }
 }
}