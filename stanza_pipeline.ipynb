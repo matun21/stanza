{
 "cells": [
  {
   "cell_type": "markdown",
   "metadata": {},
   "source": [
    "# Полный пайплайн лемматизации Stanza\n",
    "Аналог Streamlit-приложения в Jupyter Notebook"
   ]
  },
  {
   "cell_type": "code",
   "execution_count": null,
   "metadata": {},
   "outputs": [],
   "source": [
    "# 1. Установка (если не выполнено ранее)\n",
    "!pip install stanza\n",
    "!python -m stanza.download ru"
   ]
  },
  {
   "cell_type": "code",
   "execution_count": null,
   "metadata": {},
   "outputs": [],
   "source": [
    "# 2. Инициализация модели\n",
    "import stanza\n",
    "\n",
    "nlp = stanza.Pipeline('ru', processors='tokenize,lemma')"
   ]
  },
  {
   "cell_type": "code",
   "execution_count": null,
   "metadata": {},
   "outputs": [],
   "source": [
    "# 3. Тестовые данные (как в Streamlit-приложении)\n",
    "examples = [\n",
    "    \"Бегущие лисы перепрыгивали через высокие заборы\",\n",
    "    \"Красивые цветы распустились в наших садах\",\n",
    "    \"Дети весело играли во дворе\"\n",
    "]"
   ]
  },
  {
   "cell_type": "code",
   "execution_count": null,
   "metadata": {},
   "outputs": [],
   "source": [
    "# 4. Функция лемматизации (аналог Streamlit)\n",
    "def lemmatize_text(text):\n",
    "    doc = nlp(text)\n",
    "    return ' '.join([word.lemma for sent in doc.sentences for word in sent.words])"
   ]
  },
  {
   "cell_type": "code",
   "execution_count": null,
   "metadata": {},
   "outputs": [],
   "source": [
    "# 5. Пайплайн обработки\n",
    "for example in examples:\n",
    "    print(f\"\\n📌 Пример: {example}\")\n",
    "    \n",
    "    # Лемматизация\n",
    "    lemmas = lemmatize_text(example)\n",
    "    print(f\"🔹 Леммы: {lemmas}\")\n",
    "    \n",
    "    # Детальный разбор (как в Streamlit)\n",
    "    doc = nlp(example)\n",
    "    print(\"🔹 Детализация:\")\n",
    "    for sent in doc.sentences:\n",
    "        for word in sent.words:\n",
    "            print(f\"{word.text:15} → {word.lemma:15} (POS: {word.pos})\")"
   ]
  },
  {
   "cell_type": "code",
   "execution_count": null,
   "metadata": {},
   "outputs": [],
   "source": [
    "# 6. Интерактивный режим\n",
    "print(\"\\n🔧 Проверьте свой текст:\")\n",
    "user_text = input(\"Введите текст: \")\n",
    "\n",
    "if user_text.strip():\n",
    "    print(f\"\\nРезультат: {lemmatize_text(user_text)}\")\n",
    "else:\n",
    "    print(\"Вы не ввели текст\")"
   ]
  },
  {
   "cell_type": "markdown",
   "metadata": {},
   "source": [
    "### Как использовать:\n",
    "1. Запустите все ячейки последовательно (Kernel → Restart & Run All)\n",
    "2. Для своего текста используйте последнюю ячейку\n",
    "3. Результаты будут выводиться под каждой ячейкой"
   ]
  }
 ],
 "metadata": {
  "kernelspec": {
   "display_name": "Python 3",
   "language": "python",
   "name": "python3"
  }
 }
}
